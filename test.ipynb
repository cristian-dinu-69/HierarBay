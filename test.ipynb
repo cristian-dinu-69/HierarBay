{
 "cells": [
  {
   "cell_type": "code",
   "execution_count": 1,
   "id": "8cc4e61d",
   "metadata": {},
   "outputs": [],
   "source": [
    "import jax\n",
    "import jax.numpy as jnp\n",
    "import numpyro"
   ]
  },
  {
   "cell_type": "code",
   "execution_count": 2,
   "id": "34db457d",
   "metadata": {},
   "outputs": [
    {
     "name": "stdout",
     "output_type": "stream",
     "text": [
      "JAX backend: gpu\n"
     ]
    }
   ],
   "source": [
    "print(\"JAX backend:\", jax.default_backend())"
   ]
  },
  {
   "cell_type": "code",
   "execution_count": 3,
   "id": "7cc01f6c",
   "metadata": {},
   "outputs": [
    {
     "name": "stdout",
     "output_type": "stream",
     "text": [
      "Devices: [CudaDevice(id=0)]\n"
     ]
    }
   ],
   "source": [
    "print(\"Devices:\", jax.devices())"
   ]
  },
  {
   "cell_type": "code",
   "execution_count": 4,
   "id": "a33331a3",
   "metadata": {},
   "outputs": [
    {
     "name": "stdout",
     "output_type": "stream",
     "text": [
      "x: [0. 1. 2. 3. 4. 5. 6. 7. 8. 9.]\n",
      "x squared: [ 0.  1.  4.  9. 16. 25. 36. 49. 64. 81.]\n"
     ]
    }
   ],
   "source": [
    "x = jnp.arange(10.)\n",
    "print(\"x:\", x)\n",
    "print(\"x squared:\", x ** 2)"
   ]
  },
  {
   "cell_type": "code",
   "execution_count": null,
   "id": "d8f32b65",
   "metadata": {},
   "outputs": [],
   "source": []
  }
 ],
 "metadata": {
  "kernelspec": {
   "display_name": "numpyro_gpu_env",
   "language": "python",
   "name": "python3"
  },
  "language_info": {
   "codemirror_mode": {
    "name": "ipython",
    "version": 3
   },
   "file_extension": ".py",
   "mimetype": "text/x-python",
   "name": "python",
   "nbconvert_exporter": "python",
   "pygments_lexer": "ipython3",
   "version": "3.10.18"
  }
 },
 "nbformat": 4,
 "nbformat_minor": 5
}
