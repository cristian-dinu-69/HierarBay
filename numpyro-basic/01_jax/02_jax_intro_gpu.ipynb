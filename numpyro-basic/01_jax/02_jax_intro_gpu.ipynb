{
 "cells": [
  {
   "cell_type": "markdown",
   "metadata": {
    "id": "8Tz3fGDuiptf"
   },
   "source": [
    "## Acceleration with GPU\n",
    "\n",
    "\n",
    "https://jax.readthedocs.io/en/latest/notebooks/quickstart.html"
   ]
  },
  {
   "cell_type": "code",
   "execution_count": 1,
   "metadata": {
    "id": "Vs6i_ysMmYNC"
   },
   "outputs": [],
   "source": [
    "import jax\n",
    "import jax.numpy as jnp\n",
    "\n",
    "import numpy as np\n",
    "import time\n",
    "\n",
    "import matplotlib.pyplot as plt"
   ]
  },
  {
   "cell_type": "code",
   "execution_count": 2,
   "metadata": {
    "id": "YgCs6WisnB_u"
   },
   "outputs": [
    {
     "data": {
      "text/plain": [
       "[CudaDevice(id=0)]"
      ]
     },
     "execution_count": 2,
     "metadata": {},
     "output_type": "execute_result"
    }
   ],
   "source": [
    "jax.devices()"
   ]
  },
  {
   "cell_type": "code",
   "execution_count": 3,
   "metadata": {
    "id": "LZo83oU98NCX"
   },
   "outputs": [
    {
     "name": "stdout",
     "output_type": "stream",
     "text": [
      "Sat Jul 19 11:41:35 2025       \n",
      "+-----------------------------------------------------------------------------------------+\n",
      "| NVIDIA-SMI 570.169                Driver Version: 570.169        CUDA Version: 12.8     |\n",
      "|-----------------------------------------+------------------------+----------------------+\n",
      "| GPU  Name                 Persistence-M | Bus-Id          Disp.A | Volatile Uncorr. ECC |\n",
      "| Fan  Temp   Perf          Pwr:Usage/Cap |           Memory-Usage | GPU-Util  Compute M. |\n",
      "|                                         |                        |               MIG M. |\n",
      "|=========================================+========================+======================|\n",
      "|   0  NVIDIA GeForce GTX 1660 ...    Off |   00000000:01:00.0  On |                  N/A |\n",
      "| N/A   53C    P0             22W /   60W |     123MiB /   6144MiB |      0%      Default |\n",
      "|                                         |                        |                  N/A |\n",
      "+-----------------------------------------+------------------------+----------------------+\n",
      "                                                                                         \n",
      "+-----------------------------------------------------------------------------------------+\n",
      "| Processes:                                                                              |\n",
      "|  GPU   GI   CI              PID   Type   Process name                        GPU Memory |\n",
      "|        ID   ID                                                               Usage      |\n",
      "|=========================================================================================|\n",
      "|    0   N/A  N/A            1851      G   /usr/bin/gnome-shell                      1MiB |\n",
      "|    0   N/A  N/A           62188      C   ...vs/numpyro_gpu_env/bin/python         76MiB |\n",
      "+-----------------------------------------------------------------------------------------+\n"
     ]
    },
    {
     "name": "stderr",
     "output_type": "stream",
     "text": [
      "/home/cristian/anaconda3/envs/numpyro_gpu_env/lib/python3.10/pty.py:89: RuntimeWarning: os.fork() was called. os.fork() is incompatible with multithreaded code, and JAX is multithreaded, so this will likely lead to a deadlock.\n",
      "  pid, fd = os.forkpty()\n"
     ]
    }
   ],
   "source": [
    "!nvidia-smi"
   ]
  },
  {
   "cell_type": "markdown",
   "metadata": {
    "id": "8d07h5k6e2mt"
   },
   "source": [
    "## Define function (Numpy)"
   ]
  },
  {
   "cell_type": "code",
   "execution_count": 4,
   "metadata": {
    "id": "NfFPfi4GmcXm"
   },
   "outputs": [],
   "source": [
    "def myfunc_np(x, alpha=1.67, lmbda=1.05):\n",
    "  \n",
    "  return lmbda * np.where(x > 0, x, alpha * np.exp(x) - alpha)"
   ]
  },
  {
   "cell_type": "markdown",
   "metadata": {
    "id": "gjgh5C0ph4kf"
   },
   "source": [
    "## Define function (JAX)"
   ]
  },
  {
   "cell_type": "code",
   "execution_count": 5,
   "metadata": {
    "id": "nbN3v4mOhjYd"
   },
   "outputs": [],
   "source": [
    "def myfunc_jnp(x, alpha=1.67, lmbda=1.05):\n",
    "  \n",
    "  return lmbda * jnp.where(x > 0, x, alpha * jnp.exp(x) - alpha)"
   ]
  },
  {
   "cell_type": "markdown",
   "metadata": {
    "id": "-xqYeg-cg0qV"
   },
   "source": [
    "## Measure Time (Numpy)"
   ]
  },
  {
   "cell_type": "code",
   "execution_count": 6,
   "metadata": {
    "id": "kvwPcIqghApH"
   },
   "outputs": [],
   "source": [
    "x = np.random.normal(size=(5000000,)).astype(np.float32)"
   ]
  },
  {
   "cell_type": "code",
   "execution_count": 7,
   "metadata": {
    "id": "q_qSFTwwsx77"
   },
   "outputs": [
    {
     "name": "stdout",
     "output_type": "stream",
     "text": [
      "[ms] : 46.0935\n",
      "[ms] : 39.0298\n",
      "[ms] : 38.7335\n",
      "[ms] : 38.9185\n",
      "[ms] : 38.5909\n",
      "[ms] : 38.8465\n",
      "[ms] : 39.0699\n",
      "[ms] : 38.7752\n",
      "[ms] : 38.7580\n",
      "[ms] : 38.9898\n"
     ]
    }
   ],
   "source": [
    "for k in range(10):\n",
    "\n",
    "  time_bgn = time.time()\n",
    "\n",
    "  myfunc_np(x)\n",
    "\n",
    "  time_end = time.time()\n",
    "\n",
    "  elapsed_time_ms = (time_end - time_bgn) * 1000\n",
    "\n",
    "  print('[ms] : {:.4f}'.format(elapsed_time_ms))"
   ]
  },
  {
   "cell_type": "markdown",
   "metadata": {
    "id": "Tr69Ox-RhImx"
   },
   "source": [
    "## Measure Time (JAX)"
   ]
  },
  {
   "cell_type": "code",
   "execution_count": 8,
   "metadata": {
    "id": "eq19ACHuoBH1"
   },
   "outputs": [],
   "source": [
    "myfunc_jit = jax.jit(myfunc_jnp) # JIT"
   ]
  },
  {
   "cell_type": "code",
   "execution_count": 9,
   "metadata": {
    "id": "7lDf6EVyhQHn"
   },
   "outputs": [],
   "source": [
    "x_dev = jax.device_put(x) # Transfer data"
   ]
  },
  {
   "cell_type": "code",
   "execution_count": 10,
   "metadata": {
    "id": "Mk_-LcDvaWP3"
   },
   "outputs": [
    {
     "name": "stdout",
     "output_type": "stream",
     "text": [
      "[ms] : 67.3943\n",
      "[ms] : 0.2489\n",
      "[ms] : 0.2549\n",
      "[ms] : 0.2534\n",
      "[ms] : 0.2422\n",
      "[ms] : 0.3369\n",
      "[ms] : 0.2983\n",
      "[ms] : 0.2255\n",
      "[ms] : 0.3812\n",
      "[ms] : 0.2563\n"
     ]
    }
   ],
   "source": [
    "for k in range(10):\n",
    "\n",
    "  time_bgn = time.time()\n",
    "\n",
    "  myfunc_jit(x_dev).block_until_ready()\n",
    "\n",
    "  time_end = time.time() \n",
    "\n",
    "  elapsed_time_ms = (time_end - time_bgn) * 1000\n",
    "\n",
    "  print('[ms] : {:.4f}'.format(elapsed_time_ms))"
   ]
  },
  {
   "cell_type": "code",
   "execution_count": null,
   "metadata": {
    "id": "XYLUMckSRgMg"
   },
   "outputs": [],
   "source": []
  }
 ],
 "metadata": {
  "accelerator": "GPU",
  "colab": {
   "provenance": [],
   "toc_visible": true
  },
  "kernelspec": {
   "display_name": "numpyro_gpu_env",
   "language": "python",
   "name": "python3"
  },
  "language_info": {
   "codemirror_mode": {
    "name": "ipython",
    "version": 3
   },
   "file_extension": ".py",
   "mimetype": "text/x-python",
   "name": "python",
   "nbconvert_exporter": "python",
   "pygments_lexer": "ipython3",
   "version": "3.10.18"
  }
 },
 "nbformat": 4,
 "nbformat_minor": 0
}
