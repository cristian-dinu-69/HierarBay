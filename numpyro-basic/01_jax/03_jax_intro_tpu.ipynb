{
 "cells": [
  {
   "cell_type": "markdown",
   "metadata": {
    "id": "8Tz3fGDuiptf"
   },
   "source": [
    "## Acceleration with TPU\n",
    "\n",
    "\n",
    "https://jax.readthedocs.io/en/latest/notebooks/quickstart.html"
   ]
  },
  {
   "cell_type": "code",
   "execution_count": null,
   "metadata": {
    "id": "Vs6i_ysMmYNC"
   },
   "outputs": [],
   "source": [
    "import jax\n",
    "import jax.numpy as jnp\n",
    "\n",
    "import numpy as np\n",
    "import time\n",
    "\n",
    "import matplotlib.pyplot as plt"
   ]
  },
  {
   "cell_type": "markdown",
   "metadata": {
    "id": "-SmsP60i_CFo"
   },
   "source": [
    "https://jax.readthedocs.io/en/latest/jax-101/06-parallelism.html?#colab-tpu-setup"
   ]
  },
  {
   "cell_type": "code",
   "execution_count": null,
   "metadata": {
    "id": "5DfwaDeHIv96"
   },
   "outputs": [],
   "source": [
    "# import jax.tools.colab_tpu\n",
    "# jax.tools.colab_tpu.setup_tpu()"
   ]
  },
  {
   "cell_type": "code",
   "execution_count": null,
   "metadata": {
    "id": "_DaGHCUvmGdN"
   },
   "outputs": [],
   "source": [
    "# jax.devices()"
   ]
  },
  {
   "cell_type": "markdown",
   "metadata": {
    "id": "8d07h5k6e2mt"
   },
   "source": [
    "## Define function (Numpy)"
   ]
  },
  {
   "cell_type": "code",
   "execution_count": null,
   "metadata": {
    "id": "NfFPfi4GmcXm"
   },
   "outputs": [],
   "source": [
    "# def myfunc_np(x, alpha=1.67, lmbda=1.05):\n",
    "  \n",
    "#   return lmbda * np.where(x > 0, x, alpha * np.exp(x) - alpha)"
   ]
  },
  {
   "cell_type": "markdown",
   "metadata": {
    "id": "gjgh5C0ph4kf"
   },
   "source": [
    "## Define function (JAX)"
   ]
  },
  {
   "cell_type": "code",
   "execution_count": null,
   "metadata": {
    "id": "nbN3v4mOhjYd"
   },
   "outputs": [],
   "source": [
    "# def myfunc_jnp(x, alpha=1.67, lmbda=1.05):\n",
    "  \n",
    "#   return lmbda * jnp.where(x > 0, x, alpha * jnp.exp(x) - alpha)"
   ]
  },
  {
   "cell_type": "markdown",
   "metadata": {
    "id": "-xqYeg-cg0qV"
   },
   "source": [
    "## Measure Time (Numpy)"
   ]
  },
  {
   "cell_type": "code",
   "execution_count": null,
   "metadata": {
    "id": "kvwPcIqghApH"
   },
   "outputs": [],
   "source": [
    "# x = np.random.normal(size=(5000000,)).astype(np.float32)"
   ]
  },
  {
   "cell_type": "code",
   "execution_count": null,
   "metadata": {
    "id": "q_qSFTwwsx77"
   },
   "outputs": [],
   "source": [
    "# for k in range(10):\n",
    "\n",
    "#   time_bgn = time.time()\n",
    "\n",
    "#   myfunc_np(x)\n",
    "\n",
    "#   time_end = time.time()\n",
    "\n",
    "#   elapsed_time_ms = (time_end - time_bgn) * 1000\n",
    "\n",
    "#   print('[ms] : {:.4f}'.format(elapsed_time_ms))"
   ]
  },
  {
   "cell_type": "markdown",
   "metadata": {
    "id": "Tr69Ox-RhImx"
   },
   "source": [
    "## Measure Time (JAX)"
   ]
  },
  {
   "cell_type": "code",
   "execution_count": null,
   "metadata": {
    "id": "eq19ACHuoBH1"
   },
   "outputs": [],
   "source": [
    "# myfunc_jit = jax.jit(myfunc_jnp) # JIT"
   ]
  },
  {
   "cell_type": "code",
   "execution_count": null,
   "metadata": {
    "id": "7lDf6EVyhQHn"
   },
   "outputs": [],
   "source": [
    "# x_dev = jax.device_put(x) # Transfer data"
   ]
  },
  {
   "cell_type": "code",
   "execution_count": null,
   "metadata": {
    "id": "Mk_-LcDvaWP3"
   },
   "outputs": [],
   "source": [
    "# for k in range(10):\n",
    "\n",
    "#   time_bgn = time.time()\n",
    "\n",
    "#   myfunc_jit(x_dev).block_until_ready()\n",
    "\n",
    "#   time_end = time.time() \n",
    "\n",
    "#   elapsed_time_ms = (time_end - time_bgn) * 1000\n",
    "\n",
    "#   print('[ms] : {:.4f}'.format(elapsed_time_ms))"
   ]
  },
  {
   "cell_type": "code",
   "execution_count": null,
   "metadata": {
    "id": "XYLUMckSRgMg"
   },
   "outputs": [],
   "source": []
  }
 ],
 "metadata": {
  "accelerator": "TPU",
  "colab": {
   "provenance": [],
   "toc_visible": true
  },
  "kernelspec": {
   "display_name": "numpyro_gpu_env",
   "language": "python",
   "name": "python3"
  },
  "language_info": {
   "name": "python",
   "version": "3.10.18"
  }
 },
 "nbformat": 4,
 "nbformat_minor": 0
}
