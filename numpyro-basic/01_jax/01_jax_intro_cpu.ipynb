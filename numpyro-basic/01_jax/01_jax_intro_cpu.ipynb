{
 "cells": [
  {
   "cell_type": "markdown",
   "metadata": {
    "id": "8Tz3fGDuiptf"
   },
   "source": [
    "## Acceleration using JAX\n",
    "\n",
    "\n",
    "https://jax.readthedocs.io/en/latest/notebooks/quickstart.html"
   ]
  },
  {
   "cell_type": "code",
   "execution_count": 1,
   "metadata": {
    "id": "Vs6i_ysMmYNC"
   },
   "outputs": [],
   "source": [
    "import jax\n",
    "import jax.numpy as jnp\n",
    "\n",
    "import numpy as np\n",
    "import time\n",
    "\n",
    "import matplotlib.pyplot as plt"
   ]
  },
  {
   "cell_type": "code",
   "execution_count": 2,
   "metadata": {
    "id": "7bDShRKYnI4N"
   },
   "outputs": [
    {
     "name": "stderr",
     "output_type": "stream",
     "text": [
      "WARNING:2025-07-19 11:41:18,088:jax._src.xla_bridge:794: An NVIDIA GPU may be present on this machine, but a CUDA-enabled jaxlib is not installed. Falling back to cpu.\n"
     ]
    },
    {
     "data": {
      "text/plain": [
       "[CpuDevice(id=0)]"
      ]
     },
     "execution_count": 2,
     "metadata": {},
     "output_type": "execute_result"
    }
   ],
   "source": [
    "jax.devices()"
   ]
  },
  {
   "cell_type": "markdown",
   "metadata": {
    "id": "8d07h5k6e2mt"
   },
   "source": [
    "## Define function (Numpy)"
   ]
  },
  {
   "cell_type": "code",
   "execution_count": 3,
   "metadata": {
    "id": "NfFPfi4GmcXm"
   },
   "outputs": [],
   "source": [
    "def myfunc_np(x, alpha=1.67, lmbda=1.05):\n",
    "  \n",
    "  return lmbda * np.where(x > 0, x, alpha * np.exp(x) - alpha)"
   ]
  },
  {
   "cell_type": "markdown",
   "metadata": {
    "id": "gjgh5C0ph4kf"
   },
   "source": [
    "## Define function (JAX)"
   ]
  },
  {
   "cell_type": "code",
   "execution_count": 4,
   "metadata": {
    "id": "nbN3v4mOhjYd"
   },
   "outputs": [],
   "source": [
    "def myfunc_jnp(x, alpha=1.67, lmbda=1.05):\n",
    "  \n",
    "  return lmbda * jnp.where(x > 0, x, alpha * jnp.exp(x) - alpha)"
   ]
  },
  {
   "cell_type": "markdown",
   "metadata": {
    "id": "pFgm69YPiO-F"
   },
   "source": [
    "## Check function"
   ]
  },
  {
   "cell_type": "code",
   "execution_count": 5,
   "metadata": {
    "id": "TAj0RQY4fuW7"
   },
   "outputs": [
    {
     "data": {
      "image/png": "[encoded data removed]",
      "text/plain": [
       "<Figure size 640x480 with 1 Axes>"
      ]
     },
     "metadata": {},
     "output_type": "display_data"
    }
   ],
   "source": [
    "x = np.linspace(-6, 6, 100)\n",
    "y = myfunc_np(x)\n",
    "\n",
    "plt.plot(x, y)\n",
    "plt.title('SELU function');"
   ]
  },
  {
   "cell_type": "markdown",
   "metadata": {
    "id": "-xqYeg-cg0qV"
   },
   "source": [
    "## Measure Time (Numpy)"
   ]
  },
  {
   "cell_type": "code",
   "execution_count": 6,
   "metadata": {
    "id": "kvwPcIqghApH"
   },
   "outputs": [],
   "source": [
    "x = np.random.normal(size=(5000000,)).astype(np.float32)"
   ]
  },
  {
   "cell_type": "code",
   "execution_count": 7,
   "metadata": {
    "id": "q_qSFTwwsx77"
   },
   "outputs": [
    {
     "name": "stdout",
     "output_type": "stream",
     "text": [
      "[ms] : 44.0271\n",
      "[ms] : 38.6975\n",
      "[ms] : 38.2831\n",
      "[ms] : 39.4082\n",
      "[ms] : 38.5551\n",
      "[ms] : 39.5639\n",
      "[ms] : 39.3176\n",
      "[ms] : 39.0663\n",
      "[ms] : 39.4952\n",
      "[ms] : 38.5227\n"
     ]
    }
   ],
   "source": [
    "for k in range(10):\n",
    "\n",
    "  time_bgn = time.time()\n",
    "\n",
    "  myfunc_np(x)\n",
    "\n",
    "  time_end = time.time()\n",
    "\n",
    "  elapsed_time_ms = (time_end - time_bgn) * 1000\n",
    "\n",
    "  print('[ms] : {:.4f}'.format(elapsed_time_ms))"
   ]
  },
  {
   "cell_type": "markdown",
   "metadata": {
    "id": "Tr69Ox-RhImx"
   },
   "source": [
    "## Measure Time (JAX)"
   ]
  },
  {
   "cell_type": "code",
   "execution_count": 8,
   "metadata": {
    "id": "eq19ACHuoBH1"
   },
   "outputs": [],
   "source": [
    "myfunc_jit = jax.jit(myfunc_jnp)"
   ]
  },
  {
   "cell_type": "code",
   "execution_count": 9,
   "metadata": {
    "id": "5kmWetn_12PD"
   },
   "outputs": [
    {
     "name": "stdout",
     "output_type": "stream",
     "text": [
      "[ms]: 47.6124\n",
      "[ms]: 11.4238\n",
      "[ms]: 11.9340\n",
      "[ms]: 11.2939\n",
      "[ms]: 5.6939\n",
      "[ms]: 9.9306\n",
      "[ms]: 3.8636\n",
      "[ms]: 9.9363\n",
      "[ms]: 3.6647\n",
      "[ms]: 3.9322\n"
     ]
    }
   ],
   "source": [
    "for k in range(10):\n",
    "\n",
    "  time_bgn = time.time()\n",
    "\n",
    "  myfunc_jit(x).block_until_ready()\n",
    "\n",
    "  time_end = time.time()\n",
    "\n",
    "  elapsed_time_ms = (time_end - time_bgn) * 1000\n",
    "\n",
    "  print('[ms]: {:.4f}'.format(elapsed_time_ms))"
   ]
  },
  {
   "cell_type": "code",
   "execution_count": null,
   "metadata": {
    "id": "XYLUMckSRgMg"
   },
   "outputs": [],
   "source": []
  }
 ],
 "metadata": {
  "colab": {
   "provenance": [],
   "toc_visible": true
  },
  "kernelspec": {
   "display_name": "numpyro_cpu_env",
   "language": "python",
   "name": "python3"
  },
  "language_info": {
   "codemirror_mode": {
    "name": "ipython",
    "version": 3
   },
   "file_extension": ".py",
   "mimetype": "text/x-python",
   "name": "python",
   "nbconvert_exporter": "python",
   "pygments_lexer": "ipython3",
   "version": "3.10.18"
  }
 },
 "nbformat": 4,
 "nbformat_minor": 0
}
